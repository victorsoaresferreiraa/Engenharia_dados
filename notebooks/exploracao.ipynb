{
 "cells": [
  {
   "cell_type": "code",
   "execution_count": 1,
   "metadata": {},
   "outputs": [],
   "source": [
    "path_json = '/Users/Victor/engenharia_dados/notebooks/exploracao.ipynb'\n",
    "\n"
   ]
  },
  {
   "cell_type": "code",
   "execution_count": 2,
   "metadata": {},
   "outputs": [
    {
     "name": "stdout",
     "output_type": "stream",
     "text": [
      "{\n",
      "\n"
     ]
    }
   ],
   "source": [
    "with open(path_json, 'r') as file:\n",
    "    print(file.readline())"
   ]
  },
  {
   "cell_type": "code",
   "execution_count": 3,
   "metadata": {},
   "outputs": [],
   "source": [
    "with open(path_json, 'r') as file:\n",
    "    dados = file.readline()"
   ]
  },
  {
   "cell_type": "code",
   "execution_count": 4,
   "metadata": {},
   "outputs": [
    {
     "data": {
      "text/plain": [
       "str"
      ]
     },
     "execution_count": 4,
     "metadata": {},
     "output_type": "execute_result"
    }
   ],
   "source": [
    "type(dados)"
   ]
  },
  {
   "cell_type": "code",
   "execution_count": 12,
   "metadata": {},
   "outputs": [
    {
     "data": {
      "text/plain": [
       "'\\n'"
      ]
     },
     "execution_count": 12,
     "metadata": {},
     "output_type": "execute_result"
    }
   ],
   "source": [
    "dados[1]"
   ]
  },
  {
   "cell_type": "code",
   "execution_count": 6,
   "metadata": {},
   "outputs": [],
   "source": [
    "import json "
   ]
  },
  {
   "cell_type": "code",
   "execution_count": 7,
   "metadata": {},
   "outputs": [
    {
     "name": "stdout",
     "output_type": "stream",
     "text": [
      "{'cells': [{'cell_type': 'code', 'execution_count': 1, 'metadata': {}, 'outputs': [], 'source': [\"path_json = '/Users/Victor/engenharia_dados/notebooks/exploracao.ipynb'\\n\", '\\n']}, {'cell_type': 'code', 'execution_count': 2, 'metadata': {}, 'outputs': [{'name': 'stdout', 'output_type': 'stream', 'text': ['{\\n', '\\n']}], 'source': [\"with open(path_json, 'r') as file:\\n\", '    print(file.readline())']}, {'cell_type': 'code', 'execution_count': 3, 'metadata': {}, 'outputs': [], 'source': [\"with open(path_json, 'r') as file:\\n\", '    dados = file.readline()']}, {'cell_type': 'code', 'execution_count': 4, 'metadata': {}, 'outputs': [{'data': {'text/plain': ['str']}, 'execution_count': 4, 'metadata': {}, 'output_type': 'execute_result'}], 'source': ['type(dados)']}, {'cell_type': 'code', 'execution_count': 5, 'metadata': {}, 'outputs': [{'ename': 'IndexError', 'evalue': 'string index out of range', 'output_type': 'error', 'traceback': ['\\x1b[1;31m---------------------------------------------------------------------------\\x1b[0m', '\\x1b[1;31mIndexError\\x1b[0m                                Traceback (most recent call last)', 'Cell \\x1b[1;32mIn[5], line 1\\x1b[0m\\n\\x1b[1;32m----> 1\\x1b[0m \\x1b[43mdados\\x1b[49m\\x1b[43m[\\x1b[49m\\x1b[38;5;241;43m10\\x1b[39;49m\\x1b[43m]\\x1b[49m\\n', '\\x1b[1;31mIndexError\\x1b[0m: string index out of range']}], 'source': ['#dados[10]']}, {'cell_type': 'code', 'execution_count': 6, 'metadata': {}, 'outputs': [], 'source': ['import json ']}, {'cell_type': 'code', 'execution_count': None, 'metadata': {}, 'outputs': [{'ename': 'JSONDecodeError', 'evalue': 'Expecting value: line 1 column 1 (char 0)', 'output_type': 'error', 'traceback': ['\\x1b[1;31m---------------------------------------------------------------------------\\x1b[0m', '\\x1b[1;31mJSONDecodeError\\x1b[0m                           Traceback (most recent call last)', \"Cell \\x1b[1;32mIn[11], line 2\\x1b[0m\\n\\x1b[0;32m      1\\x1b[0m \\x1b[38;5;28;01mwith\\x1b[39;00m \\x1b[38;5;28mopen\\x1b[39m(path_json, \\x1b[38;5;124m'\\x1b[39m\\x1b[38;5;124mr\\x1b[39m\\x1b[38;5;124m'\\x1b[39m) \\x1b[38;5;28;01mas\\x1b[39;00m file:\\n\\x1b[1;32m----> 2\\x1b[0m     \\x1b[38;5;28mprint\\x1b[39m(\\x1b[43mjson\\x1b[49m\\x1b[38;5;241;43m.\\x1b[39;49m\\x1b[43mload\\x1b[49m\\x1b[43m(\\x1b[49m\\x1b[43mfile\\x1b[49m\\x1b[43m)\\x1b[49m)\\n\", 'File \\x1b[1;32m~\\\\.pyenv\\\\pyenv-win\\\\versions\\\\3.12.4\\\\Lib\\\\json\\\\__init__.py:293\\x1b[0m, in \\x1b[0;36mload\\x1b[1;34m(fp, cls, object_hook, parse_float, parse_int, parse_constant, object_pairs_hook, **kw)\\x1b[0m\\n\\x1b[0;32m    274\\x1b[0m \\x1b[38;5;28;01mdef\\x1b[39;00m \\x1b[38;5;21mload\\x1b[39m(fp, \\x1b[38;5;241m*\\x1b[39m, \\x1b[38;5;28mcls\\x1b[39m\\x1b[38;5;241m=\\x1b[39m\\x1b[38;5;28;01mNone\\x1b[39;00m, object_hook\\x1b[38;5;241m=\\x1b[39m\\x1b[38;5;28;01mNone\\x1b[39;00m, parse_float\\x1b[38;5;241m=\\x1b[39m\\x1b[38;5;28;01mNone\\x1b[39;00m,\\n\\x1b[0;32m    275\\x1b[0m         parse_int\\x1b[38;5;241m=\\x1b[39m\\x1b[38;5;28;01mNone\\x1b[39;00m, parse_constant\\x1b[38;5;241m=\\x1b[39m\\x1b[38;5;28;01mNone\\x1b[39;00m, object_pairs_hook\\x1b[38;5;241m=\\x1b[39m\\x1b[38;5;28;01mNone\\x1b[39;00m, \\x1b[38;5;241m*\\x1b[39m\\x1b[38;5;241m*\\x1b[39mkw):\\n\\x1b[0;32m    276\\x1b[0m \\x1b[38;5;250m    \\x1b[39m\\x1b[38;5;124;03m\"\"\"Deserialize ``fp`` (a ``.read()``-supporting file-like object containing\\x1b[39;00m\\n\\x1b[0;32m    277\\x1b[0m \\x1b[38;5;124;03m    a JSON document) to a Python object.\\x1b[39;00m\\n\\x1b[0;32m    278\\x1b[0m \\n\\x1b[1;32m   (...)\\x1b[0m\\n\\x1b[0;32m    291\\x1b[0m \\x1b[38;5;124;03m    kwarg; otherwise ``JSONDecoder`` is used.\\x1b[39;00m\\n\\x1b[0;32m    292\\x1b[0m \\x1b[38;5;124;03m    \"\"\"\\x1b[39;00m\\n\\x1b[1;32m--> 293\\x1b[0m     \\x1b[38;5;28;01mreturn\\x1b[39;00m \\x1b[43mloads\\x1b[49m\\x1b[43m(\\x1b[49m\\x1b[43mfp\\x1b[49m\\x1b[38;5;241;43m.\\x1b[39;49m\\x1b[43mread\\x1b[49m\\x1b[43m(\\x1b[49m\\x1b[43m)\\x1b[49m\\x1b[43m,\\x1b[49m\\n\\x1b[0;32m    294\\x1b[0m \\x1b[43m        \\x1b[49m\\x1b[38;5;28;43mcls\\x1b[39;49m\\x1b[38;5;241;43m=\\x1b[39;49m\\x1b[38;5;28;43mcls\\x1b[39;49m\\x1b[43m,\\x1b[49m\\x1b[43m \\x1b[49m\\x1b[43mobject_hook\\x1b[49m\\x1b[38;5;241;43m=\\x1b[39;49m\\x1b[43mobject_hook\\x1b[49m\\x1b[43m,\\x1b[49m\\n\\x1b[0;32m    295\\x1b[0m \\x1b[43m        \\x1b[49m\\x1b[43mparse_float\\x1b[49m\\x1b[38;5;241;43m=\\x1b[39;49m\\x1b[43mparse_float\\x1b[49m\\x1b[43m,\\x1b[49m\\x1b[43m \\x1b[49m\\x1b[43mparse_int\\x1b[49m\\x1b[38;5;241;43m=\\x1b[39;49m\\x1b[43mparse_int\\x1b[49m\\x1b[43m,\\x1b[49m\\n\\x1b[0;32m    296\\x1b[0m \\x1b[43m        \\x1b[49m\\x1b[43mparse_constant\\x1b[49m\\x1b[38;5;241;43m=\\x1b[39;49m\\x1b[43mparse_constant\\x1b[49m\\x1b[43m,\\x1b[49m\\x1b[43m \\x1b[49m\\x1b[43mobject_pairs_hook\\x1b[49m\\x1b[38;5;241;43m=\\x1b[39;49m\\x1b[43mobject_pairs_hook\\x1b[49m\\x1b[43m,\\x1b[49m\\x1b[43m \\x1b[49m\\x1b[38;5;241;43m*\\x1b[39;49m\\x1b[38;5;241;43m*\\x1b[39;49m\\x1b[43mkw\\x1b[49m\\x1b[43m)\\x1b[49m\\n', \"File \\x1b[1;32m~\\\\.pyenv\\\\pyenv-win\\\\versions\\\\3.12.4\\\\Lib\\\\json\\\\__init__.py:346\\x1b[0m, in \\x1b[0;36mloads\\x1b[1;34m(s, cls, object_hook, parse_float, parse_int, parse_constant, object_pairs_hook, **kw)\\x1b[0m\\n\\x1b[0;32m    341\\x1b[0m     s \\x1b[38;5;241m=\\x1b[39m s\\x1b[38;5;241m.\\x1b[39mdecode(detect_encoding(s), \\x1b[38;5;124m'\\x1b[39m\\x1b[38;5;124msurrogatepass\\x1b[39m\\x1b[38;5;124m'\\x1b[39m)\\n\\x1b[0;32m    343\\x1b[0m \\x1b[38;5;28;01mif\\x1b[39;00m (\\x1b[38;5;28mcls\\x1b[39m \\x1b[38;5;129;01mis\\x1b[39;00m \\x1b[38;5;28;01mNone\\x1b[39;00m \\x1b[38;5;129;01mand\\x1b[39;00m object_hook \\x1b[38;5;129;01mis\\x1b[39;00m \\x1b[38;5;28;01mNone\\x1b[39;00m \\x1b[38;5;129;01mand\\x1b[39;00m\\n\\x1b[0;32m    344\\x1b[0m         parse_int \\x1b[38;5;129;01mis\\x1b[39;00m \\x1b[38;5;28;01mNone\\x1b[39;00m \\x1b[38;5;129;01mand\\x1b[39;00m parse_float \\x1b[38;5;129;01mis\\x1b[39;00m \\x1b[38;5;28;01mNone\\x1b[39;00m \\x1b[38;5;129;01mand\\x1b[39;00m\\n\\x1b[0;32m    345\\x1b[0m         parse_constant \\x1b[38;5;129;01mis\\x1b[39;00m \\x1b[38;5;28;01mNone\\x1b[39;00m \\x1b[38;5;129;01mand\\x1b[39;00m object_pairs_hook \\x1b[38;5;129;01mis\\x1b[39;00m \\x1b[38;5;28;01mNone\\x1b[39;00m \\x1b[38;5;129;01mand\\x1b[39;00m \\x1b[38;5;129;01mnot\\x1b[39;00m kw):\\n\\x1b[1;32m--> 346\\x1b[0m     \\x1b[38;5;28;01mreturn\\x1b[39;00m \\x1b[43m_default_decoder\\x1b[49m\\x1b[38;5;241;43m.\\x1b[39;49m\\x1b[43mdecode\\x1b[49m\\x1b[43m(\\x1b[49m\\x1b[43ms\\x1b[49m\\x1b[43m)\\x1b[49m\\n\\x1b[0;32m    347\\x1b[0m \\x1b[38;5;28;01mif\\x1b[39;00m \\x1b[38;5;28mcls\\x1b[39m \\x1b[38;5;129;01mis\\x1b[39;00m \\x1b[38;5;28;01mNone\\x1b[39;00m:\\n\\x1b[0;32m    348\\x1b[0m     \\x1b[38;5;28mcls\\x1b[39m \\x1b[38;5;241m=\\x1b[39m JSONDecoder\\n\", 'File \\x1b[1;32m~\\\\.pyenv\\\\pyenv-win\\\\versions\\\\3.12.4\\\\Lib\\\\json\\\\decoder.py:337\\x1b[0m, in \\x1b[0;36mJSONDecoder.decode\\x1b[1;34m(self, s, _w)\\x1b[0m\\n\\x1b[0;32m    332\\x1b[0m \\x1b[38;5;28;01mdef\\x1b[39;00m \\x1b[38;5;21mdecode\\x1b[39m(\\x1b[38;5;28mself\\x1b[39m, s, _w\\x1b[38;5;241m=\\x1b[39mWHITESPACE\\x1b[38;5;241m.\\x1b[39mmatch):\\n\\x1b[0;32m    333\\x1b[0m \\x1b[38;5;250m    \\x1b[39m\\x1b[38;5;124;03m\"\"\"Return the Python representation of ``s`` (a ``str`` instance\\x1b[39;00m\\n\\x1b[0;32m    334\\x1b[0m \\x1b[38;5;124;03m    containing a JSON document).\\x1b[39;00m\\n\\x1b[0;32m    335\\x1b[0m \\n\\x1b[0;32m    336\\x1b[0m \\x1b[38;5;124;03m    \"\"\"\\x1b[39;00m\\n\\x1b[1;32m--> 337\\x1b[0m     obj, end \\x1b[38;5;241m=\\x1b[39m \\x1b[38;5;28;43mself\\x1b[39;49m\\x1b[38;5;241;43m.\\x1b[39;49m\\x1b[43mraw_decode\\x1b[49m\\x1b[43m(\\x1b[49m\\x1b[43ms\\x1b[49m\\x1b[43m,\\x1b[49m\\x1b[43m \\x1b[49m\\x1b[43midx\\x1b[49m\\x1b[38;5;241;43m=\\x1b[39;49m\\x1b[43m_w\\x1b[49m\\x1b[43m(\\x1b[49m\\x1b[43ms\\x1b[49m\\x1b[43m,\\x1b[49m\\x1b[43m \\x1b[49m\\x1b[38;5;241;43m0\\x1b[39;49m\\x1b[43m)\\x1b[49m\\x1b[38;5;241;43m.\\x1b[39;49m\\x1b[43mend\\x1b[49m\\x1b[43m(\\x1b[49m\\x1b[43m)\\x1b[49m\\x1b[43m)\\x1b[49m\\n\\x1b[0;32m    338\\x1b[0m     end \\x1b[38;5;241m=\\x1b[39m _w(s, end)\\x1b[38;5;241m.\\x1b[39mend()\\n\\x1b[0;32m    339\\x1b[0m     \\x1b[38;5;28;01mif\\x1b[39;00m end \\x1b[38;5;241m!=\\x1b[39m \\x1b[38;5;28mlen\\x1b[39m(s):\\n', 'File \\x1b[1;32m~\\\\.pyenv\\\\pyenv-win\\\\versions\\\\3.12.4\\\\Lib\\\\json\\\\decoder.py:355\\x1b[0m, in \\x1b[0;36mJSONDecoder.raw_decode\\x1b[1;34m(self, s, idx)\\x1b[0m\\n\\x1b[0;32m    353\\x1b[0m     obj, end \\x1b[38;5;241m=\\x1b[39m \\x1b[38;5;28mself\\x1b[39m\\x1b[38;5;241m.\\x1b[39mscan_once(s, idx)\\n\\x1b[0;32m    354\\x1b[0m \\x1b[38;5;28;01mexcept\\x1b[39;00m \\x1b[38;5;167;01mStopIteration\\x1b[39;00m \\x1b[38;5;28;01mas\\x1b[39;00m err:\\n\\x1b[1;32m--> 355\\x1b[0m     \\x1b[38;5;28;01mraise\\x1b[39;00m JSONDecodeError(\\x1b[38;5;124m\"\\x1b[39m\\x1b[38;5;124mExpecting value\\x1b[39m\\x1b[38;5;124m\"\\x1b[39m, s, err\\x1b[38;5;241m.\\x1b[39mvalue) \\x1b[38;5;28;01mfrom\\x1b[39;00m \\x1b[38;5;28;01mNone\\x1b[39;00m\\n\\x1b[0;32m    356\\x1b[0m \\x1b[38;5;28;01mreturn\\x1b[39;00m obj, end\\n', '\\x1b[1;31mJSONDecodeError\\x1b[0m: Expecting value: line 1 column 1 (char 0)']}], 'source': [\"with open(path_json, 'r') as file:\\n\", '    print(json.load(file))']}, {'cell_type': 'code', 'execution_count': None, 'metadata': {}, 'outputs': [{'ename': 'JSONDecodeError', 'evalue': 'Expecting value: line 1 column 1 (char 0)', 'output_type': 'error', 'traceback': ['\\x1b[1;31m---------------------------------------------------------------------------\\x1b[0m', '\\x1b[1;31mJSONDecodeError\\x1b[0m                           Traceback (most recent call last)', \"Cell \\x1b[1;32mIn[9], line 2\\x1b[0m\\n\\x1b[0;32m      1\\x1b[0m \\x1b[38;5;28;01mwith\\x1b[39;00m \\x1b[38;5;28mopen\\x1b[39m(path_json, \\x1b[38;5;124m'\\x1b[39m\\x1b[38;5;124mr\\x1b[39m\\x1b[38;5;124m'\\x1b[39m) \\x1b[38;5;28;01mas\\x1b[39;00m file:\\n\\x1b[1;32m----> 2\\x1b[0m     dados_json \\x1b[38;5;241m=\\x1b[39m \\x1b[43mjson\\x1b[49m\\x1b[38;5;241;43m.\\x1b[39;49m\\x1b[43mload\\x1b[49m\\x1b[43m(\\x1b[49m\\x1b[43mfile\\x1b[49m\\x1b[43m,\\x1b[49m\\x1b[43m)\\x1b[49m\\n\", 'File \\x1b[1;32m~\\\\.pyenv\\\\pyenv-win\\\\versions\\\\3.12.4\\\\Lib\\\\json\\\\__init__.py:293\\x1b[0m, in \\x1b[0;36mload\\x1b[1;34m(fp, cls, object_hook, parse_float, parse_int, parse_constant, object_pairs_hook, **kw)\\x1b[0m\\n\\x1b[0;32m    274\\x1b[0m \\x1b[38;5;28;01mdef\\x1b[39;00m \\x1b[38;5;21mload\\x1b[39m(fp, \\x1b[38;5;241m*\\x1b[39m, \\x1b[38;5;28mcls\\x1b[39m\\x1b[38;5;241m=\\x1b[39m\\x1b[38;5;28;01mNone\\x1b[39;00m, object_hook\\x1b[38;5;241m=\\x1b[39m\\x1b[38;5;28;01mNone\\x1b[39;00m, parse_float\\x1b[38;5;241m=\\x1b[39m\\x1b[38;5;28;01mNone\\x1b[39;00m,\\n\\x1b[0;32m    275\\x1b[0m         parse_int\\x1b[38;5;241m=\\x1b[39m\\x1b[38;5;28;01mNone\\x1b[39;00m, parse_constant\\x1b[38;5;241m=\\x1b[39m\\x1b[38;5;28;01mNone\\x1b[39;00m, object_pairs_hook\\x1b[38;5;241m=\\x1b[39m\\x1b[38;5;28;01mNone\\x1b[39;00m, \\x1b[38;5;241m*\\x1b[39m\\x1b[38;5;241m*\\x1b[39mkw):\\n\\x1b[0;32m    276\\x1b[0m \\x1b[38;5;250m    \\x1b[39m\\x1b[38;5;124;03m\"\"\"Deserialize ``fp`` (a ``.read()``-supporting file-like object containing\\x1b[39;00m\\n\\x1b[0;32m    277\\x1b[0m \\x1b[38;5;124;03m    a JSON document) to a Python object.\\x1b[39;00m\\n\\x1b[0;32m    278\\x1b[0m \\n\\x1b[1;32m   (...)\\x1b[0m\\n\\x1b[0;32m    291\\x1b[0m \\x1b[38;5;124;03m    kwarg; otherwise ``JSONDecoder`` is used.\\x1b[39;00m\\n\\x1b[0;32m    292\\x1b[0m \\x1b[38;5;124;03m    \"\"\"\\x1b[39;00m\\n\\x1b[1;32m--> 293\\x1b[0m     \\x1b[38;5;28;01mreturn\\x1b[39;00m \\x1b[43mloads\\x1b[49m\\x1b[43m(\\x1b[49m\\x1b[43mfp\\x1b[49m\\x1b[38;5;241;43m.\\x1b[39;49m\\x1b[43mread\\x1b[49m\\x1b[43m(\\x1b[49m\\x1b[43m)\\x1b[49m\\x1b[43m,\\x1b[49m\\n\\x1b[0;32m    294\\x1b[0m \\x1b[43m        \\x1b[49m\\x1b[38;5;28;43mcls\\x1b[39;49m\\x1b[38;5;241;43m=\\x1b[39;49m\\x1b[38;5;28;43mcls\\x1b[39;49m\\x1b[43m,\\x1b[49m\\x1b[43m \\x1b[49m\\x1b[43mobject_hook\\x1b[49m\\x1b[38;5;241;43m=\\x1b[39;49m\\x1b[43mobject_hook\\x1b[49m\\x1b[43m,\\x1b[49m\\n\\x1b[0;32m    295\\x1b[0m \\x1b[43m        \\x1b[49m\\x1b[43mparse_float\\x1b[49m\\x1b[38;5;241;43m=\\x1b[39;49m\\x1b[43mparse_float\\x1b[49m\\x1b[43m,\\x1b[49m\\x1b[43m \\x1b[49m\\x1b[43mparse_int\\x1b[49m\\x1b[38;5;241;43m=\\x1b[39;49m\\x1b[43mparse_int\\x1b[49m\\x1b[43m,\\x1b[49m\\n\\x1b[0;32m    296\\x1b[0m \\x1b[43m        \\x1b[49m\\x1b[43mparse_constant\\x1b[49m\\x1b[38;5;241;43m=\\x1b[39;49m\\x1b[43mparse_constant\\x1b[49m\\x1b[43m,\\x1b[49m\\x1b[43m \\x1b[49m\\x1b[43mobject_pairs_hook\\x1b[49m\\x1b[38;5;241;43m=\\x1b[39;49m\\x1b[43mobject_pairs_hook\\x1b[49m\\x1b[43m,\\x1b[49m\\x1b[43m \\x1b[49m\\x1b[38;5;241;43m*\\x1b[39;49m\\x1b[38;5;241;43m*\\x1b[39;49m\\x1b[43mkw\\x1b[49m\\x1b[43m)\\x1b[49m\\n', \"File \\x1b[1;32m~\\\\.pyenv\\\\pyenv-win\\\\versions\\\\3.12.4\\\\Lib\\\\json\\\\__init__.py:346\\x1b[0m, in \\x1b[0;36mloads\\x1b[1;34m(s, cls, object_hook, parse_float, parse_int, parse_constant, object_pairs_hook, **kw)\\x1b[0m\\n\\x1b[0;32m    341\\x1b[0m     s \\x1b[38;5;241m=\\x1b[39m s\\x1b[38;5;241m.\\x1b[39mdecode(detect_encoding(s), \\x1b[38;5;124m'\\x1b[39m\\x1b[38;5;124msurrogatepass\\x1b[39m\\x1b[38;5;124m'\\x1b[39m)\\n\\x1b[0;32m    343\\x1b[0m \\x1b[38;5;28;01mif\\x1b[39;00m (\\x1b[38;5;28mcls\\x1b[39m \\x1b[38;5;129;01mis\\x1b[39;00m \\x1b[38;5;28;01mNone\\x1b[39;00m \\x1b[38;5;129;01mand\\x1b[39;00m object_hook \\x1b[38;5;129;01mis\\x1b[39;00m \\x1b[38;5;28;01mNone\\x1b[39;00m \\x1b[38;5;129;01mand\\x1b[39;00m\\n\\x1b[0;32m    344\\x1b[0m         parse_int \\x1b[38;5;129;01mis\\x1b[39;00m \\x1b[38;5;28;01mNone\\x1b[39;00m \\x1b[38;5;129;01mand\\x1b[39;00m parse_float \\x1b[38;5;129;01mis\\x1b[39;00m \\x1b[38;5;28;01mNone\\x1b[39;00m \\x1b[38;5;129;01mand\\x1b[39;00m\\n\\x1b[0;32m    345\\x1b[0m         parse_constant \\x1b[38;5;129;01mis\\x1b[39;00m \\x1b[38;5;28;01mNone\\x1b[39;00m \\x1b[38;5;129;01mand\\x1b[39;00m object_pairs_hook \\x1b[38;5;129;01mis\\x1b[39;00m \\x1b[38;5;28;01mNone\\x1b[39;00m \\x1b[38;5;129;01mand\\x1b[39;00m \\x1b[38;5;129;01mnot\\x1b[39;00m kw):\\n\\x1b[1;32m--> 346\\x1b[0m     \\x1b[38;5;28;01mreturn\\x1b[39;00m \\x1b[43m_default_decoder\\x1b[49m\\x1b[38;5;241;43m.\\x1b[39;49m\\x1b[43mdecode\\x1b[49m\\x1b[43m(\\x1b[49m\\x1b[43ms\\x1b[49m\\x1b[43m)\\x1b[49m\\n\\x1b[0;32m    347\\x1b[0m \\x1b[38;5;28;01mif\\x1b[39;00m \\x1b[38;5;28mcls\\x1b[39m \\x1b[38;5;129;01mis\\x1b[39;00m \\x1b[38;5;28;01mNone\\x1b[39;00m:\\n\\x1b[0;32m    348\\x1b[0m     \\x1b[38;5;28mcls\\x1b[39m \\x1b[38;5;241m=\\x1b[39m JSONDecoder\\n\", 'File \\x1b[1;32m~\\\\.pyenv\\\\pyenv-win\\\\versions\\\\3.12.4\\\\Lib\\\\json\\\\decoder.py:337\\x1b[0m, in \\x1b[0;36mJSONDecoder.decode\\x1b[1;34m(self, s, _w)\\x1b[0m\\n\\x1b[0;32m    332\\x1b[0m \\x1b[38;5;28;01mdef\\x1b[39;00m \\x1b[38;5;21mdecode\\x1b[39m(\\x1b[38;5;28mself\\x1b[39m, s, _w\\x1b[38;5;241m=\\x1b[39mWHITESPACE\\x1b[38;5;241m.\\x1b[39mmatch):\\n\\x1b[0;32m    333\\x1b[0m \\x1b[38;5;250m    \\x1b[39m\\x1b[38;5;124;03m\"\"\"Return the Python representation of ``s`` (a ``str`` instance\\x1b[39;00m\\n\\x1b[0;32m    334\\x1b[0m \\x1b[38;5;124;03m    containing a JSON document).\\x1b[39;00m\\n\\x1b[0;32m    335\\x1b[0m \\n\\x1b[0;32m    336\\x1b[0m \\x1b[38;5;124;03m    \"\"\"\\x1b[39;00m\\n\\x1b[1;32m--> 337\\x1b[0m     obj, end \\x1b[38;5;241m=\\x1b[39m \\x1b[38;5;28;43mself\\x1b[39;49m\\x1b[38;5;241;43m.\\x1b[39;49m\\x1b[43mraw_decode\\x1b[49m\\x1b[43m(\\x1b[49m\\x1b[43ms\\x1b[49m\\x1b[43m,\\x1b[49m\\x1b[43m \\x1b[49m\\x1b[43midx\\x1b[49m\\x1b[38;5;241;43m=\\x1b[39;49m\\x1b[43m_w\\x1b[49m\\x1b[43m(\\x1b[49m\\x1b[43ms\\x1b[49m\\x1b[43m,\\x1b[49m\\x1b[43m \\x1b[49m\\x1b[38;5;241;43m0\\x1b[39;49m\\x1b[43m)\\x1b[49m\\x1b[38;5;241;43m.\\x1b[39;49m\\x1b[43mend\\x1b[49m\\x1b[43m(\\x1b[49m\\x1b[43m)\\x1b[49m\\x1b[43m)\\x1b[49m\\n\\x1b[0;32m    338\\x1b[0m     end \\x1b[38;5;241m=\\x1b[39m _w(s, end)\\x1b[38;5;241m.\\x1b[39mend()\\n\\x1b[0;32m    339\\x1b[0m     \\x1b[38;5;28;01mif\\x1b[39;00m end \\x1b[38;5;241m!=\\x1b[39m \\x1b[38;5;28mlen\\x1b[39m(s):\\n', 'File \\x1b[1;32m~\\\\.pyenv\\\\pyenv-win\\\\versions\\\\3.12.4\\\\Lib\\\\json\\\\decoder.py:355\\x1b[0m, in \\x1b[0;36mJSONDecoder.raw_decode\\x1b[1;34m(self, s, idx)\\x1b[0m\\n\\x1b[0;32m    353\\x1b[0m     obj, end \\x1b[38;5;241m=\\x1b[39m \\x1b[38;5;28mself\\x1b[39m\\x1b[38;5;241m.\\x1b[39mscan_once(s, idx)\\n\\x1b[0;32m    354\\x1b[0m \\x1b[38;5;28;01mexcept\\x1b[39;00m \\x1b[38;5;167;01mStopIteration\\x1b[39;00m \\x1b[38;5;28;01mas\\x1b[39;00m err:\\n\\x1b[1;32m--> 355\\x1b[0m     \\x1b[38;5;28;01mraise\\x1b[39;00m JSONDecodeError(\\x1b[38;5;124m\"\\x1b[39m\\x1b[38;5;124mExpecting value\\x1b[39m\\x1b[38;5;124m\"\\x1b[39m, s, err\\x1b[38;5;241m.\\x1b[39mvalue) \\x1b[38;5;28;01mfrom\\x1b[39;00m \\x1b[38;5;28;01mNone\\x1b[39;00m\\n\\x1b[0;32m    356\\x1b[0m \\x1b[38;5;28;01mreturn\\x1b[39;00m obj, end\\n', '\\x1b[1;31mJSONDecodeError\\x1b[0m: Expecting value: line 1 column 1 (char 0)']}], 'source': [\"with open(path_json, 'r') as file:\\n\", '    dados_json = json.load(file,)\\n', '\\n']}], 'metadata': {'kernelspec': {'display_name': 'aprendendo_pyspark-iLjZyceP-py3.12', 'language': 'python', 'name': 'python3'}, 'language_info': {'codemirror_mode': {'name': 'ipython', 'version': 3}, 'file_extension': '.py', 'mimetype': 'text/x-python', 'name': 'python', 'nbconvert_exporter': 'python', 'pygments_lexer': 'ipython3', 'version': '3.12.4'}}, 'nbformat': 4, 'nbformat_minor': 2}\n"
     ]
    }
   ],
   "source": [
    "with open(path_json, 'r') as file:\n",
    "    print(json.load(file))"
   ]
  },
  {
   "cell_type": "code",
   "execution_count": 8,
   "metadata": {},
   "outputs": [],
   "source": [
    "with open(path_json, 'r') as file:\n",
    "    dados_json = json.load(file,)\n",
    "\n"
   ]
  }
 ],
 "metadata": {
  "kernelspec": {
   "display_name": "aprendendo_pyspark-iLjZyceP-py3.12",
   "language": "python",
   "name": "python3"
  },
  "language_info": {
   "codemirror_mode": {
    "name": "ipython",
    "version": 3
   },
   "file_extension": ".py",
   "mimetype": "text/x-python",
   "name": "python",
   "nbconvert_exporter": "python",
   "pygments_lexer": "ipython3",
   "version": "3.12.4"
  }
 },
 "nbformat": 4,
 "nbformat_minor": 2
}
